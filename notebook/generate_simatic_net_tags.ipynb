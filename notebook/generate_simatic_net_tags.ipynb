{
 "cells": [
  {
   "cell_type": "code",
   "execution_count": 1,
   "metadata": {},
   "outputs": [],
   "source": [
    "import sys\n",
    "import os\n",
    "import pandas as pd\n",
    "import re\n",
    "import csv\n",
    "sys.path.insert(0, os.path.join(\"..\", \"functions\")); \n",
    "import simatic_net_functions\n",
    "from shared_functions import tag_export_to_dict, yield_key_value_from_nested_dict"
   ]
  },
  {
   "cell_type": "code",
   "execution_count": 2,
   "metadata": {},
   "outputs": [],
   "source": [
    "source_directory = os.path.join(\"..\", \"source\", \"simatic_net\")\n",
    "result_directory = os.path.join(\"..\", \"result\", \"simatic_net\")\n",
    "source_file_name = \"LCom_PepsData_DSF5.db\"\n",
    "result_file_name = \"DSF5_SimaticNet_Import.csv\"\n",
    "cu_number = 7308"
   ]
  },
  {
   "cell_type": "code",
   "execution_count": 3,
   "metadata": {},
   "outputs": [],
   "source": [
    "tag_dict, db_number = tag_export_to_dict(os.path.join(source_directory, source_file_name))"
   ]
  },
  {
   "cell_type": "code",
   "execution_count": 4,
   "metadata": {},
   "outputs": [],
   "source": [
    "index = 0\n",
    "with open(os.path.join(result_directory, result_file_name), 'w', newline='') as file:\n",
    "    file.write(simatic_net_functions.generate_header(cu_number))\n",
    "    for tag, data_type in yield_key_value_from_nested_dict(tag_dict):\n",
    "        tagstring, index = (simatic_net_functions.create_tag(name=tag, data_type=data_type,\n",
    "                                            cu_number=cu_number, db_number=db_number,\n",
    "                                            current_index=index))\n",
    "        # print(tagstring)\n",
    "        if tagstring:\n",
    "            file.write(tagstring)\n"
   ]
  },
  {
   "cell_type": "code",
   "execution_count": null,
   "metadata": {},
   "outputs": [],
   "source": []
  }
 ],
 "metadata": {
  "kernelspec": {
   "display_name": ".venv",
   "language": "python",
   "name": "python3"
  },
  "language_info": {
   "codemirror_mode": {
    "name": "ipython",
    "version": 3
   },
   "file_extension": ".py",
   "mimetype": "text/x-python",
   "name": "python",
   "nbconvert_exporter": "python",
   "pygments_lexer": "ipython3",
   "version": "3.11.5"
  }
 },
 "nbformat": 4,
 "nbformat_minor": 2
}
