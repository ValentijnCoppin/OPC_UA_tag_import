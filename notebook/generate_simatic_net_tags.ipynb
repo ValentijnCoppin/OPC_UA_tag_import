{
 "cells": [
  {
   "cell_type": "code",
   "metadata": {
    "ExecuteTime": {
     "end_time": "2024-12-03T12:35:01.110681Z",
     "start_time": "2024-12-03T12:35:00.075339Z"
    }
   },
   "source": [
    "import sys\n",
    "import os\n",
    "import pandas as pd\n",
    "import re\n",
    "import csv\n",
    "sys.path.insert(0, os.path.join(\"..\", \"functions\")); \n",
    "import simatic_net_functions\n",
    "from shared_functions import tag_export_to_dict, yield_key_value_from_nested_dict"
   ],
   "outputs": [],
   "execution_count": 1
  },
  {
   "cell_type": "code",
   "metadata": {
    "ExecuteTime": {
     "end_time": "2024-12-03T12:45:15.765402Z",
     "start_time": "2024-12-03T12:45:15.759494Z"
    }
   },
   "source": [
    "source_directory = os.path.join(\"..\", \"source\", \"simatic_net\")\n",
    "result_directory = os.path.join(\"..\", \"result\", \"simatic_net\")\n",
    "source_file_name = \"CU7205_DSF6_PEPS.db\"\n",
    "result_file_name = \"CU7205_DSF6_SimaticNet_Import.csv\"\n",
    "cu_number = 7205"
   ],
   "outputs": [],
   "execution_count": 5
  },
  {
   "cell_type": "code",
   "metadata": {
    "ExecuteTime": {
     "end_time": "2024-12-03T12:45:17.065591Z",
     "start_time": "2024-12-03T12:45:17.058282Z"
    }
   },
   "source": [
    "tag_dict, db_number = tag_export_to_dict(os.path.join(source_directory, source_file_name))\n",
    "print(tag_dict)"
   ],
   "outputs": [
    {
     "name": "stdout",
     "output_type": "stream",
     "text": [
      "{'main_key': {'Alm': 'Array[1..50] of Word', 'LotData': {'LotData': {}, 'SON': 'String[10]', 'INR': 'String[15]', 'LotSize': 'DInt', 'Spare_1': 'DWord', 'Spare_2': 'DWord', 'Spare_3': 'DWord', 'Spare_4': 'DWord'}, 'General': {'General': {}, 'Mode': 'Int', 'RFD': 'Bool', 'RFU': 'Bool', 'Run': 'Bool', 'Idle': 'Bool', 'MachineStarted': 'Bool', 'ManualMode': 'Bool', 'PositioningAct': 'Bool', 'PositioningReq': 'Bool', 'BeltsAct': 'Bool', 'LinkConvBeltAct': 'Bool', 'RunMachineEmpty': 'Bool', 'Spare_153_3': 'Bool', 'Spare_153_4': 'Bool', 'Spare_153_5': 'Bool', 'Spare_153_6': 'Bool', 'Spare_153_7': 'Bool', 'Spare_154': 'Byte', 'Spare_155': 'Byte', 'Spare_156': 'Int', 'Spare_158': 'Int'}, 'Counters': {'Counters': {}, 'TotalTubs': 'DInt', 'Tubs': 'DInt', 'Reject_1': 'DInt', 'Reject_2': 'DInt', 'Reject_3': 'Real', 'Reject_4': 'Real', 'Reject_5': 'Real', 'Spare_1': 'Real', 'Spare_2': 'Real', 'Spare_3': 'Real', 'Spare_4': 'Real', 'Spare_5': 'Real', 'Spare_6': 'Real', 'Spare_7': 'Real', 'Spare_8': 'Real', 'Spare_9': 'Real', 'Spare_10': 'Real', 'Spare_11': 'Real', 'Spare_12': 'Real', 'Spare_13': 'Real', 'Spare_14': 'Real', 'Spare_15': 'Real', 'Spare_16': 'Real', 'Spare_17': 'Real', 'Spare_18': 'Real', 'Spare_19': 'Real', 'Spare_20': 'Real', 'Spare_21': 'Real', 'Spare_22': 'Real', 'Spare_23': 'Real'}, 'Spare_1': 'DWord', 'Spare_2': 'DWord', 'Spare_3': 'DWord', 'Spare_4': 'DWord', 'Spare_5': 'DWord'}}\n"
     ]
    }
   ],
   "execution_count": 6
  },
  {
   "cell_type": "code",
   "metadata": {
    "ExecuteTime": {
     "end_time": "2024-12-03T12:45:18.968326Z",
     "start_time": "2024-12-03T12:45:18.959293Z"
    }
   },
   "source": [
    "index = 0\n",
    "with open(os.path.join(result_directory, result_file_name), 'w', newline='\\r\\n') as file:\n",
    "    file.write(simatic_net_functions.generate_header(cu_number))\n",
    "    for tag, data_type in yield_key_value_from_nested_dict(tag_dict):\n",
    "        if data_type:\n",
    "            tagstring, index = (simatic_net_functions.create_tag(name=tag, data_type=data_type,\n",
    "                                                cu_number=cu_number, db_number=db_number,\n",
    "                                                current_index=index))\n",
    "        if tagstring:\n",
    "            file.write(tagstring)\n"
   ],
   "outputs": [],
   "execution_count": 7
  },
  {
   "metadata": {
    "ExecuteTime": {
     "end_time": "2024-10-23T11:42:22.874387100Z",
     "start_time": "2024-10-23T08:08:13.368843Z"
    }
   },
   "cell_type": "code",
   "source": "",
   "outputs": [],
   "execution_count": null
  }
 ],
 "metadata": {
  "kernelspec": {
   "display_name": ".venv",
   "language": "python",
   "name": "python3"
  },
  "language_info": {
   "codemirror_mode": {
    "name": "ipython",
    "version": 3
   },
   "file_extension": ".py",
   "mimetype": "text/x-python",
   "name": "python",
   "nbconvert_exporter": "python",
   "pygments_lexer": "ipython3",
   "version": "3.11.5"
  }
 },
 "nbformat": 4,
 "nbformat_minor": 2
}
