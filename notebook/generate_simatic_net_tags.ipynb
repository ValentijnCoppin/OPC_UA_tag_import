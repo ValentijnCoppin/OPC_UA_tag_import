{
 "cells": [
  {
   "cell_type": "code",
   "metadata": {
    "ExecuteTime": {
     "end_time": "2024-09-09T13:50:15.198583Z",
     "start_time": "2024-09-09T13:50:13.609594Z"
    }
   },
   "source": [
    "import sys\n",
    "import os\n",
    "import pandas as pd\n",
    "import re\n",
    "import csv\n",
    "sys.path.insert(0, os.path.join(\"..\", \"functions\")); \n",
    "import simatic_net_functions\n",
    "from shared_functions import tag_export_to_dict, yield_key_value_from_nested_dict"
   ],
   "outputs": [],
   "execution_count": 1
  },
  {
   "cell_type": "code",
   "metadata": {
    "ExecuteTime": {
     "end_time": "2024-09-09T13:50:15.219979Z",
     "start_time": "2024-09-09T13:50:15.210132Z"
    }
   },
   "source": [
    "source_directory = os.path.join(\"..\", \"source\", \"simatic_net\")\n",
    "result_directory = os.path.join(\"..\", \"result\", \"simatic_net\")\n",
    "source_file_name = \"CU7002_IFC_VL1_PEPS.db\"\n",
    "result_file_name = \"CU7002_IFC_VL1_SimaticNet_Import.csv\"\n",
    "cu_number = 7002"
   ],
   "outputs": [],
   "execution_count": 2
  },
  {
   "cell_type": "code",
   "metadata": {
    "ExecuteTime": {
     "end_time": "2024-09-09T13:52:45.694680Z",
     "start_time": "2024-09-09T13:52:45.682924Z"
    }
   },
   "source": [
    "tag_dict, db_number = tag_export_to_dict(os.path.join(source_directory, source_file_name))\n",
    "print(tag_dict)"
   ],
   "outputs": [
    {
     "name": "stdout",
     "output_type": "stream",
     "text": [
      "{'main_key': {'alarms': 'Array[1..100] of Word', 'LotData_vu1': {'LotData_vu1': {}, 'SON': 'String[10]', 'INR': 'String[15]', 'LotSize': 'DInt', 'Spare': 'DWord', 'Spare_1': 'DWord', 'Spare_2': 'DWord', 'Spare_3': 'DWord'}, 'General_vu1': {'General_vu1': {}, 'Mode': 'Int', 'RFD': 'Bool', 'RFU': 'Bool', 'Run': 'Bool', 'Idle': 'Bool', 'MachineStarted': 'Bool', 'MACHINE_STANDBY_MODE': 'Bool', 'MACHINE_PRODUCTION_MODE': 'Bool', 'MACHINE_STOP_EXECUTED': 'Bool', 'MACHINE_STOP_INFEED': 'Bool', 'MACHINE_STOP_OUTFEED': 'Bool', 'MACHINE_STOP_OPERATOR': 'Bool', 'MACHINE_SERVICE': 'Bool', 'MACHINE_MANUAL': 'Bool', 'MACHINE_CLEAN': 'Bool', 'VERIFICATION_RUN_ACTIVE': 'Bool', 'PRODUCTION_RUN_ACTIVE': 'Bool', 'VERIFICATION_RUN_2ND': 'Bool', 'SPARE_1': 'Bool', 'SPARE_2': 'Bool', 'SPARE_3': 'Bool', 'SPARE_4': 'Bool', 'NO_WEIGHT': 'Bool', '_100PR_IPC_ACTIVE': 'Bool', 'SPARE_7': 'Bool', 'SPARE': 'Byte', 'SET_MACHINE_SPEED': 'Real', 'ACT_MACHINE_SPEED': 'DInt', 'SET_MIN_MACHINE_SPEED': 'Int', 'SET_MAX_MACHINE_SPEED': 'Int', 'Spare_14': 'Int', 'Spare_299': 'Array[270..299] of Byte'}, 'LotData_vu2': {'LotData_vu2': {}, 'SON': 'String[10]', 'INR': 'String[15]', 'LotSize': 'DInt', 'Spare': 'DWord', 'Spare_1': 'DWord', 'Spare_2': 'DWord', 'Spare_3': 'DWord'}, 'General_vu2': {'General_vu2': {}, 'Mode': 'Int', 'RFD': 'Bool', 'RFU': 'Bool', 'Run': 'Bool', 'Idle': 'Bool', 'MachineStarted': 'Bool', 'MACHINE_STANDBY_MODE': 'Bool', 'MACHINE_PRODUCTION_MODE': 'Bool', 'MACHINE_STOP_EXECUTED': 'Bool', 'MACHINE_STOP_INFEED': 'Bool', 'MACHINE_STOP_OUTFEED': 'Bool', 'MACHINE_STOP_OPERATOR': 'Bool', 'MACHINE_SERVICE': 'Bool', 'MACHINE_MANUAL': 'Bool', 'MACHINE_CLEAN': 'Bool', 'VERIFICATION_RUN_ACTIVE': 'Bool', 'PRODUCTION_RUN_ACTIVE': 'Bool', 'VERIFICATION_RUN_2ND': 'Bool', 'SPARE_1': 'Bool', 'SPARE_2': 'Bool', 'SPARE_3': 'Bool', 'SPARE_4': 'Bool', 'NO_WEIGHT': 'Bool', '_100PR_IPC_ACTIVE': 'Bool', 'SPARE_7': 'Bool', 'SPARE': 'Byte', 'SET_MACHINE_SPEED': 'Real', 'ACT_MACHINE_SPEED': 'DInt', 'SET_MIN_MACHINE_SPEED': 'Int', 'SET_MAX_MACHINE_SPEED': 'Int', 'Spare_14': 'Int', 'Spare_299': 'Array[370..399] of Byte'}, 'Counters': {'Counters': {}, 'za_betr': {'za_betr': {}, 'x_1': 'DInt', 'x_2': 'DInt', 'x_3': 'DInt', 'x_4': 'DInt'}, 'za_total': {'za_total': {}, 'x_1': 'DInt', 'x_2': 'DInt', 'x_3': 'DInt', 'x_4': 'DInt'}, 'za': {'za': {}, 'x_1': 'DInt', 'x_2': 'DInt', 'x_3': 'DInt', 'x_4': 'DInt', 'x_5': 'DInt', 'x_6': 'DInt', 'x_7': 'DInt', 'x_8': 'DInt', 'x_9': 'DInt', 'x_10': 'DInt', 'x_11': 'DInt', 'x_12': 'DInt', 'x_13': 'DInt', 'x_14': 'DInt', 'x_15': 'DInt', 'x_16': 'DInt', 'x_17': 'DInt', 'x_18': 'DInt', 'x_19': 'DInt', 'x_20': 'DInt', 'x_21': 'DInt', 'x_22': 'DInt', 'x_23': 'DInt', 'x_24': 'DInt', 'x_25': 'DInt', 'x_26': 'DInt', 'x_27': 'DInt', 'x_28': 'DInt', 'x_29': 'DInt', 'x_30': 'DInt', 'x_31': 'DInt', 'x_32': 'DInt', 'x_33': 'DInt', 'x_34': 'DInt', 'x_35': 'DInt', 'x_36': 'DInt', 'x_37': 'DInt', 'x_38': 'DInt', 'x_39': 'DInt', 'x_40': 'DInt', 'x_41': 'DInt', 'x_42': 'DInt', 'x_43': 'DInt', 'x_44': 'DInt', 'x_45': 'DInt', 'x_46': 'DInt', 'x_47': 'DInt', 'x_48': 'DInt', 'x_49': 'DInt', 'x_50': 'DInt', 'x_51': 'DInt', 'x_52': 'DInt', 'x_53': 'DInt', 'x_54': 'DInt', 'x_55': 'DInt', 'x_56': 'DInt', 'x_57': 'DInt', 'x_58': 'DInt', 'x_59': 'DInt', 'x_60': 'DInt', 'x_61': 'DInt', 'x_62': 'DInt', 'x_63': 'DInt', 'x_64': 'DInt'}}}}\n"
     ]
    }
   ],
   "execution_count": 9
  },
  {
   "cell_type": "code",
   "metadata": {
    "ExecuteTime": {
     "end_time": "2024-09-09T13:52:48.191843Z",
     "start_time": "2024-09-09T13:52:48.143631Z"
    }
   },
   "source": [
    "index = 0\n",
    "with open(os.path.join(result_directory, result_file_name), 'w', newline='\\r\\n') as file:\n",
    "    file.write(simatic_net_functions.generate_header(cu_number))\n",
    "    for tag, data_type in yield_key_value_from_nested_dict(tag_dict):\n",
    "        if data_type:\n",
    "            tagstring, index = (simatic_net_functions.create_tag(name=tag, data_type=data_type,\n",
    "                                                cu_number=cu_number, db_number=db_number,\n",
    "                                                current_index=index))\n",
    "        if tagstring:\n",
    "            file.write(tagstring)\n"
   ],
   "outputs": [],
   "execution_count": 10
  },
  {
   "metadata": {
    "ExecuteTime": {
     "end_time": "2024-09-09T13:50:16.338762Z",
     "start_time": "2024-09-09T13:50:16.334658Z"
    }
   },
   "cell_type": "code",
   "source": "",
   "outputs": [],
   "execution_count": null
  }
 ],
 "metadata": {
  "kernelspec": {
   "display_name": ".venv",
   "language": "python",
   "name": "python3"
  },
  "language_info": {
   "codemirror_mode": {
    "name": "ipython",
    "version": 3
   },
   "file_extension": ".py",
   "mimetype": "text/x-python",
   "name": "python",
   "nbconvert_exporter": "python",
   "pygments_lexer": "ipython3",
   "version": "3.11.5"
  }
 },
 "nbformat": 4,
 "nbformat_minor": 2
}
