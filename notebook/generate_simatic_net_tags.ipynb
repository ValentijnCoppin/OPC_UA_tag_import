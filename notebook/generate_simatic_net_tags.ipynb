{
 "cells": [
  {
   "cell_type": "code",
   "execution_count": 1,
   "metadata": {},
   "outputs": [],
   "source": [
    "import sys\n",
    "import os\n",
    "import pandas as pd\n",
    "import re\n",
    "import csv\n",
    "sys.path.insert(0, os.path.join(\"..\", \"functions\")); \n",
    "import simatic_net_functions\n",
    "from shared_functions import tag_export_to_dict, yield_key_value_from_nested_dict"
   ]
  },
  {
   "cell_type": "code",
   "execution_count": 8,
   "metadata": {},
   "outputs": [],
   "source": [
    "source_directory = os.path.join(\"..\", \"source\", \"simatic_net\")\n",
    "result_directory = os.path.join(\"..\", \"result\", \"simatic_net\")\n",
    "source_file_name = \"CU1256_FC2SYR_PEPS.AWL\"\n",
    "result_file_name = \"CU1256_FC2SYR_SimaticNet_Import.csv\"\n",
    "cu_number = 1256"
   ]
  },
  {
   "cell_type": "code",
   "execution_count": 9,
   "metadata": {},
   "outputs": [
    {
     "name": "stdout",
     "output_type": "stream",
     "text": [
      "{'main_key': {'ALARMS': {'ALARM': 'ARRAY  [1 .. 50 ] OF WORD'}, 'LOT_DATA': {'SON': 'STRING  [10 ]', 'INR': 'STRING  [15 ]', 'LOTSIZE': 'DINT', 'SPARE_34': 'DWORD', 'SPARE_38': 'DWORD', 'SPARE_42': 'DWORD', 'SPARE_46': 'DWORD'}, 'GENERAL': {'MODE': 'INT', 'RFD': 'BOOL', 'RFU': 'BOOL', 'RUN': 'BOOL', 'IDLE': 'BOOL', 'SPARE_2_4': 'BOOL', 'SPARE_2_5': 'BOOL', 'SPARE_2_6': 'BOOL', 'SPARE_2_7': 'BOOL', 'MACHINE_STARTED': 'BOOL', 'AUTO': 'BOOL', 'MANUAL': 'BOOL', 'STELLEN': 'BOOL', 'INFEED_BLOCKING': 'BOOL', 'PRODUCT_SUPPLY': 'BOOL', 'PRE_PRODUCTION': 'BOOL', 'FILLING': 'BOOL', 'STOPPERS': 'BOOL', 'IPC_SAMPLING': 'BOOL', 'REJECT_ALL_SYRINGES': 'BOOL', 'RUN_EMPTY': 'BOOL', 'START_UP': 'BOOL', 'PRIMING': 'BOOL', 'PREPRODUCTION': 'BOOL', 'RECIRCULATION_DEACTIVE': 'BOOL', 'SPARE_5_0': 'BOOL', 'SPARE_5_1': 'BOOL', 'SPARE_5_2': 'BOOL', 'SPARE_5_3': 'BOOL', 'SPARE_5_4': 'BOOL', 'SPARE_5_5': 'BOOL', 'SPARE_5_6': 'BOOL', 'SPARE_5_7': 'BOOL', 'SPARE_6_0': 'BOOL', 'SPARE_6_1': 'BOOL', 'SPARE_6_2': 'BOOL', 'SPARE_6_3': 'BOOL', 'SPARE_6_4': 'BOOL', 'SPARE_6_5': 'BOOL', 'SPARE_6_6': 'BOOL', 'SPARE_6_7': 'BOOL', 'PHASE': 'INT', 'SUB_PHASE': 'INT', 'SPARE_12': 'INT', 'SPARE_14': 'INT', 'SPARE_16': 'INT', 'SPARE_18': 'INT', 'SPARE_20': 'INT', 'SPARE_22': 'INT', 'SPARE_24': 'INT', 'SPARE_26': 'INT', 'SPARE_28': 'INT', 'SPARE_30': 'INT', 'SPARE_32': 'INT', 'SPARE_34': 'INT', 'SPARE_36': 'INT', 'SPARE_38': 'INT', 'SPARE_40': 'INT', 'SPARE_42': 'INT', 'SPARE_44': 'INT', 'SPARE_46': 'INT', 'SPARE_48': 'WORD'}, 'COUNTERS': {'TOTAL_GOOD': 'DINT', 'REJECT_FILLER_CAPPER': 'DINT', 'REJECT_PRIMING': 'INT', 'TOTAL_OBJECTS': 'DINT', 'FILLED_REJECTED': 'DINT', 'NON_FILLED_REJECTED': 'DINT', 'IPC_FILLED_SAMPLES': 'INT', 'REJECT_NON_STARTUP': 'DINT', 'SPARE_28': 'INT', 'REJECT_NEEDLE_DOWN': 'INT', 'REJECT_ALL_NON_FILL_SYR': 'DINT', 'REJECT_ALL_FILLED_SYR': 'DINT', 'FAULT_TIP_CAP_CONTR': 'INT', 'FAULT_TIP_CAP_CONTR_1': 'INT', 'FAULT_TIP_CAP_CONTR_2': 'INT', 'FAULT_TIP_CAP_CONTR_3': 'INT', 'FAULT_TIP_CAP_CONTR_4': 'INT', 'FAULT_STOPPER_CONTR': 'INT', 'FAULT_STOPPER_CONTR_1': 'INT', 'FAULT_STOPPER_CONTR_2': 'INT', 'FAULT_STOPPER_CONTR_3': 'INT', 'FAULT_STOPPER_CONTR_4': 'INT', 'FAULT_STANDSTILL': 'DINT', 'FAULT_TUNNEL': 'DINT', 'FAULT_ISOL_FILLED': 'DINT', 'FAULT_ISOL_NON_FILLED': 'DINT', 'FAULT_E_STOP_FILLED': 'DINT', 'FAULT_E_STOP_NON_FILLED': 'DINT', 'REJECT_SMC_MODE': 'DINT', 'REJECT_JOG_MODE': 'DINT', 'SPARE_92': 'DINT', 'REJECT_RECIRCULATION': 'DINT', 'SPARE_100': 'DINT', 'SPARE_104': 'DINT', 'SPARE_108': 'DINT', 'SPARE_112': 'DINT', 'SPARE_116': 'DINT', 'SPARE_120': 'DINT', 'SPARE_124': 'DINT', 'SPARE_128': 'INT'}, 'SPARE_288': 'DWORD', 'SPARE_292': 'DWORD', 'SPARE_296': 'DWORD', 'SPARE_290': 'DWORD', 'SPARE_294': 'DWORD'}}\n"
     ]
    }
   ],
   "source": [
    "tag_dict, db_number = tag_export_to_dict(os.path.join(source_directory, source_file_name))\n",
    "print(tag_dict)"
   ]
  },
  {
   "cell_type": "code",
   "execution_count": 10,
   "metadata": {},
   "outputs": [],
   "source": [
    "index = 0\n",
    "with open(os.path.join(result_directory, result_file_name), 'w', newline='\\r\\n') as file:\n",
    "    file.write(simatic_net_functions.generate_header(cu_number))\n",
    "    for tag, data_type in yield_key_value_from_nested_dict(tag_dict):\n",
    "        tagstring, index = (simatic_net_functions.create_tag(name=tag, data_type=data_type,\n",
    "                                            cu_number=cu_number, db_number=db_number,\n",
    "                                            current_index=index))\n",
    "        if tagstring:\n",
    "            file.write(tagstring)\n"
   ]
  }
 ],
 "metadata": {
  "kernelspec": {
   "display_name": ".venv",
   "language": "python",
   "name": "python3"
  },
  "language_info": {
   "codemirror_mode": {
    "name": "ipython",
    "version": 3
   },
   "file_extension": ".py",
   "mimetype": "text/x-python",
   "name": "python",
   "nbconvert_exporter": "python",
   "pygments_lexer": "ipython3",
   "version": "3.11.5"
  }
 },
 "nbformat": 4,
 "nbformat_minor": 2
}
