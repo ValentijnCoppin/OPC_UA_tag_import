{
 "cells": [
  {
   "cell_type": "code",
   "execution_count": 1,
   "metadata": {},
   "outputs": [],
   "source": [
    "import sys\n",
    "import os\n",
    "import pandas as pd\n",
    "import re\n",
    "import csv\n",
    "sys.path.insert(0, os.path.join(\"..\", \"functions\"))\n",
    "import kepware_functions\n",
    "from shared_functions import tag_export_to_dict, yield_key_value_from_nested_dict"
   ]
  },
  {
   "cell_type": "code",
   "execution_count": 2,
   "metadata": {},
   "outputs": [],
   "source": [
    "source_directory = os.path.join(\"..\", \"source\", \"kepware\")\n",
    "result_directory = os.path.join(\"..\", \"result\", \"kepware\")"
   ]
  },
  {
   "cell_type": "markdown",
   "metadata": {},
   "source": [
    "## Process all files in directory"
   ]
  },
  {
   "cell_type": "code",
   "execution_count": 4,
   "metadata": {},
   "outputs": [
    {
     "name": "stdout",
     "output_type": "stream",
     "text": [
      "Results written for DB17_DSF4_300.AWL\n",
      "Results written for DSF3_DB17.txt\n"
     ]
    }
   ],
   "source": [
    "for source_file_name in os.listdir(source_directory):\n",
    "    result_file_name = f'{source_file_name.split(\".\")[0]}.csv'\n",
    "    index = 0\n",
    "    tag_dict, db_number = tag_export_to_dict(os.path.join(source_directory, source_file_name))\n",
    "    with open(os.path.join(result_directory, result_file_name), 'w', newline='') as file:\n",
    "        file.write(kepware_functions.generate_header(db_number))\n",
    "        for tag, data_type in yield_key_value_from_nested_dict(tag_dict):\n",
    "            tagstring, index = (kepware_functions.create_tag(name=tag, data_type=data_type,\n",
    "                                        db_number=db_number, current_index=index))\n",
    "            if tagstring:\n",
    "                file.write(tagstring)\n",
    "    print(f'Results written for {source_file_name}')"
   ]
  },
  {
   "cell_type": "markdown",
   "metadata": {},
   "source": [
    "## Process 1 file at a time"
   ]
  },
  {
   "cell_type": "code",
   "execution_count": 4,
   "metadata": {},
   "outputs": [],
   "source": [
    "# source_file_name = \"DSF3_DB17.txt\"\n",
    "\n",
    "# result_file_name = f'{source_file_name.split(\".\")[0]}.csv'\n",
    "# index = 0\n",
    "# tag_dict, db_number = tag_export_to_dict(os.path.join(source_directory, source_file_name))\n",
    "# with open(os.path.join(result_directory, result_file_name), 'w', newline='') as file:\n",
    "#     file.write(kepware_functions.generate_header(db_number))\n",
    "#     for tag, data_type in yield_key_value_from_nested_dict(tag_dict):\n",
    "#         tagstring, index = (kepware_functions.create_tag(name=tag, data_type=data_type,\n",
    "#                                             db_number=db_number, current_index=index))\n",
    "#         if tagstring:\n",
    "#             file.write(tagstring)"
   ]
  }
 ],
 "metadata": {
  "kernelspec": {
   "display_name": ".venv",
   "language": "python",
   "name": "python3"
  },
  "language_info": {
   "codemirror_mode": {
    "name": "ipython",
    "version": 3
   },
   "file_extension": ".py",
   "mimetype": "text/x-python",
   "name": "python",
   "nbconvert_exporter": "python",
   "pygments_lexer": "ipython3",
   "version": "3.11.5"
  }
 },
 "nbformat": 4,
 "nbformat_minor": 2
}
